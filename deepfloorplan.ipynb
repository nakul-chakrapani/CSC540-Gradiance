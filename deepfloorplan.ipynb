{
  "cells": [
    {
      "cell_type": "markdown",
      "metadata": {
        "id": "RoDsXGk-e4nH"
      },
      "source": [
        "### Installation\n",
        "1. Run the first 2 cells\n",
        "2. Restart runtime\n",
        "3. Run the rest of the jupyter notebooks (do not run the first 2 cells again)"
      ]
    },
    {
      "cell_type": "code",
      "execution_count": 1,
      "metadata": {
        "colab": {
          "base_uri": "https://localhost:8080/"
        },
        "id": "YPHHCUKZn89j",
        "outputId": "8dea8285-3807-4550-9fff-b07a3b535ffd"
      },
      "outputs": [
        {
          "output_type": "stream",
          "name": "stdout",
          "text": [
            "Cloning into 'TF2DeepFloorplan'...\n",
            "remote: Enumerating objects: 1051, done.\u001b[K\n",
            "remote: Counting objects: 100% (479/479), done.\u001b[K\n",
            "remote: Compressing objects: 100% (213/213), done.\u001b[K\n",
            "remote: Total 1051 (delta 286), reused 362 (delta 235), pack-reused 572 (from 1)\u001b[K\n",
            "Receiving objects: 100% (1051/1051), 8.14 MiB | 13.87 MiB/s, done.\n",
            "Resolving deltas: 100% (587/587), done.\n",
            "Requirement already satisfied: gdown in /usr/local/lib/python3.12/dist-packages (5.2.0)\n",
            "Requirement already satisfied: beautifulsoup4 in /usr/local/lib/python3.12/dist-packages (from gdown) (4.13.4)\n",
            "Requirement already satisfied: filelock in /usr/local/lib/python3.12/dist-packages (from gdown) (3.19.1)\n",
            "Requirement already satisfied: requests[socks] in /usr/local/lib/python3.12/dist-packages (from gdown) (2.32.4)\n",
            "Requirement already satisfied: tqdm in /usr/local/lib/python3.12/dist-packages (from gdown) (4.67.1)\n",
            "Requirement already satisfied: soupsieve>1.2 in /usr/local/lib/python3.12/dist-packages (from beautifulsoup4->gdown) (2.7)\n",
            "Requirement already satisfied: typing-extensions>=4.0.0 in /usr/local/lib/python3.12/dist-packages (from beautifulsoup4->gdown) (4.14.1)\n",
            "Requirement already satisfied: charset_normalizer<4,>=2 in /usr/local/lib/python3.12/dist-packages (from requests[socks]->gdown) (3.4.3)\n",
            "Requirement already satisfied: idna<4,>=2.5 in /usr/local/lib/python3.12/dist-packages (from requests[socks]->gdown) (3.10)\n",
            "Requirement already satisfied: urllib3<3,>=1.21.1 in /usr/local/lib/python3.12/dist-packages (from requests[socks]->gdown) (2.5.0)\n",
            "Requirement already satisfied: certifi>=2017.4.17 in /usr/local/lib/python3.12/dist-packages (from requests[socks]->gdown) (2025.8.3)\n",
            "Requirement already satisfied: PySocks!=1.5.7,>=1.5.6 in /usr/local/lib/python3.12/dist-packages (from requests[socks]->gdown) (1.7.1)\n",
            "Requirement already satisfied: gdown in /usr/local/lib/python3.12/dist-packages (5.2.0)\n",
            "Requirement already satisfied: beautifulsoup4 in /usr/local/lib/python3.12/dist-packages (from gdown) (4.13.4)\n",
            "Requirement already satisfied: filelock in /usr/local/lib/python3.12/dist-packages (from gdown) (3.19.1)\n",
            "Requirement already satisfied: requests[socks] in /usr/local/lib/python3.12/dist-packages (from gdown) (2.32.4)\n",
            "Requirement already satisfied: tqdm in /usr/local/lib/python3.12/dist-packages (from gdown) (4.67.1)\n",
            "Requirement already satisfied: soupsieve>1.2 in /usr/local/lib/python3.12/dist-packages (from beautifulsoup4->gdown) (2.7)\n",
            "Requirement already satisfied: typing-extensions>=4.0.0 in /usr/local/lib/python3.12/dist-packages (from beautifulsoup4->gdown) (4.14.1)\n",
            "Requirement already satisfied: charset_normalizer<4,>=2 in /usr/local/lib/python3.12/dist-packages (from requests[socks]->gdown) (3.4.3)\n",
            "Requirement already satisfied: idna<4,>=2.5 in /usr/local/lib/python3.12/dist-packages (from requests[socks]->gdown) (3.10)\n",
            "Requirement already satisfied: urllib3<3,>=1.21.1 in /usr/local/lib/python3.12/dist-packages (from requests[socks]->gdown) (2.5.0)\n",
            "Requirement already satisfied: certifi>=2017.4.17 in /usr/local/lib/python3.12/dist-packages (from requests[socks]->gdown) (2025.8.3)\n",
            "Requirement already satisfied: PySocks!=1.5.7,>=1.5.6 in /usr/local/lib/python3.12/dist-packages (from requests[socks]->gdown) (1.7.1)\n",
            "Downloading...\n",
            "From (original): https://drive.google.com/uc?id=1czUSFvk6Z49H-zRikTc67g2HUUz4imON\n",
            "From (redirected): https://drive.google.com/uc?id=1czUSFvk6Z49H-zRikTc67g2HUUz4imON&confirm=t&uuid=b912b1f2-18e2-4ee7-a3bf-4e4cf9cf0236\n",
            "To: /content/log.zip\n",
            "100% 113M/113M [00:01<00:00, 65.8MB/s]\n",
            "Archive:  log.zip\n",
            "   creating: log/\n",
            "   creating: log/store/\n",
            "  inflating: log/store/checkpoint    \n",
            "  inflating: log/store/events.out.tfevents.1604013900.yui-Inspiron-7590.21326.5.v2  \n",
            "  inflating: log/store/events.out.tfevents.1604014000.yui-Inspiron-7590.21649.5.v2  \n",
            "  inflating: log/store/events.out.tfevents.1604014116.yui-Inspiron-7590.22149.5.v2  \n",
            "  inflating: log/store/G.data-00000-of-00001  \n",
            "  inflating: log/store/G.index       \n"
          ]
        }
      ],
      "source": [
        "!git clone -b main https://github.com/zcemycl/TF2DeepFloorplan.git\n",
        "!pip install gdown\n",
        "!pip install --upgrade --no-cache-dir gdown\n",
        "!gdown https://drive.google.com/uc?id=1czUSFvk6Z49H-zRikTc67g2HUUz4imON\n",
        "!unzip log.zip\n",
        "!rm log.zip"
      ]
    },
    {
      "cell_type": "code",
      "source": [
        "!cat TF2DeepFloorplan/requirements.txt"
      ],
      "metadata": {
        "id": "FRyGboJpikWI",
        "outputId": "672434bd-a521-43a6-dcdf-91fab4e63ed5",
        "colab": {
          "base_uri": "https://localhost:8080/"
        }
      },
      "execution_count": 2,
      "outputs": [
        {
          "output_type": "stream",
          "name": "stdout",
          "text": [
            "matplotlib\n",
            "numpy\n",
            "opencv-python\n",
            "pdbpp\n",
            "scipy\n",
            "Pillow\n",
            "gdown\n",
            "protobuf\n",
            "chardet\n",
            "types-requests\n",
            "pytype\n",
            "dynaconf\n"
          ]
        }
      ]
    },
    {
      "cell_type": "code",
      "execution_count": 3,
      "metadata": {
        "colab": {
          "base_uri": "https://localhost:8080/"
        },
        "id": "uEchXy-7e4nI",
        "outputId": "3a27e32e-9554-46cb-869b-616b7466ca32"
      },
      "outputs": [
        {
          "output_type": "stream",
          "name": "stdout",
          "text": [
            "Obtaining file:///content/TF2DeepFloorplan\n",
            "  Installing build dependencies ... \u001b[?25l\u001b[?25hdone\n",
            "  Checking if build backend supports build_editable ... \u001b[?25l\u001b[?25hdone\n",
            "  Getting requirements to build editable ... \u001b[?25l\u001b[?25hdone\n",
            "  Installing backend dependencies ... \u001b[?25l\u001b[?25hdone\n",
            "  Preparing editable metadata (pyproject.toml) ... \u001b[?25l\u001b[?25hdone\n",
            "Requirement already satisfied: matplotlib in /usr/local/lib/python3.12/dist-packages (from dfp==0.0.6.dev1+gb5860f297.d20250825) (3.10.0)\n",
            "Requirement already satisfied: numpy in /usr/local/lib/python3.12/dist-packages (from dfp==0.0.6.dev1+gb5860f297.d20250825) (2.0.2)\n",
            "Requirement already satisfied: opencv-python in /usr/local/lib/python3.12/dist-packages (from dfp==0.0.6.dev1+gb5860f297.d20250825) (4.12.0.88)\n",
            "Collecting pdbpp (from dfp==0.0.6.dev1+gb5860f297.d20250825)\n",
            "  Downloading pdbpp-0.11.7-py3-none-any.whl.metadata (16 kB)\n",
            "Requirement already satisfied: scipy in /usr/local/lib/python3.12/dist-packages (from dfp==0.0.6.dev1+gb5860f297.d20250825) (1.16.1)\n",
            "Requirement already satisfied: Pillow in /usr/local/lib/python3.12/dist-packages (from dfp==0.0.6.dev1+gb5860f297.d20250825) (11.3.0)\n",
            "Requirement already satisfied: gdown in /usr/local/lib/python3.12/dist-packages (from dfp==0.0.6.dev1+gb5860f297.d20250825) (5.2.0)\n",
            "Requirement already satisfied: protobuf in /usr/local/lib/python3.12/dist-packages (from dfp==0.0.6.dev1+gb5860f297.d20250825) (5.29.5)\n",
            "Requirement already satisfied: chardet in /usr/local/lib/python3.12/dist-packages (from dfp==0.0.6.dev1+gb5860f297.d20250825) (5.2.0)\n",
            "Collecting types-requests (from dfp==0.0.6.dev1+gb5860f297.d20250825)\n",
            "  Downloading types_requests-2.32.4.20250809-py3-none-any.whl.metadata (2.0 kB)\n",
            "Collecting pytype (from dfp==0.0.6.dev1+gb5860f297.d20250825)\n",
            "  Downloading pytype-2024.10.11-cp312-cp312-manylinux_2_27_x86_64.manylinux_2_28_x86_64.whl.metadata (10 kB)\n",
            "Collecting dynaconf (from dfp==0.0.6.dev1+gb5860f297.d20250825)\n",
            "  Downloading dynaconf-3.2.11-py2.py3-none-any.whl.metadata (9.2 kB)\n",
            "Collecting tensorflow-cpu (from dfp==0.0.6.dev1+gb5860f297.d20250825)\n",
            "  Downloading tensorflow_cpu-2.20.0-cp312-cp312-manylinux_2_17_x86_64.manylinux2014_x86_64.whl.metadata (4.5 kB)\n",
            "Requirement already satisfied: tensorboard in /usr/local/lib/python3.12/dist-packages (from dfp==0.0.6.dev1+gb5860f297.d20250825) (2.19.0)\n",
            "Collecting tensorflow-model-optimization (from dfp==0.0.6.dev1+gb5860f297.d20250825)\n",
            "  Downloading tensorflow_model_optimization-0.8.0-py2.py3-none-any.whl.metadata (904 bytes)\n",
            "Requirement already satisfied: beautifulsoup4 in /usr/local/lib/python3.12/dist-packages (from gdown->dfp==0.0.6.dev1+gb5860f297.d20250825) (4.13.4)\n",
            "Requirement already satisfied: filelock in /usr/local/lib/python3.12/dist-packages (from gdown->dfp==0.0.6.dev1+gb5860f297.d20250825) (3.19.1)\n",
            "Requirement already satisfied: requests[socks] in /usr/local/lib/python3.12/dist-packages (from gdown->dfp==0.0.6.dev1+gb5860f297.d20250825) (2.32.4)\n",
            "Requirement already satisfied: tqdm in /usr/local/lib/python3.12/dist-packages (from gdown->dfp==0.0.6.dev1+gb5860f297.d20250825) (4.67.1)\n",
            "Requirement already satisfied: contourpy>=1.0.1 in /usr/local/lib/python3.12/dist-packages (from matplotlib->dfp==0.0.6.dev1+gb5860f297.d20250825) (1.3.3)\n",
            "Requirement already satisfied: cycler>=0.10 in /usr/local/lib/python3.12/dist-packages (from matplotlib->dfp==0.0.6.dev1+gb5860f297.d20250825) (0.12.1)\n",
            "Requirement already satisfied: fonttools>=4.22.0 in /usr/local/lib/python3.12/dist-packages (from matplotlib->dfp==0.0.6.dev1+gb5860f297.d20250825) (4.59.1)\n",
            "Requirement already satisfied: kiwisolver>=1.3.1 in /usr/local/lib/python3.12/dist-packages (from matplotlib->dfp==0.0.6.dev1+gb5860f297.d20250825) (1.4.9)\n",
            "Requirement already satisfied: packaging>=20.0 in /usr/local/lib/python3.12/dist-packages (from matplotlib->dfp==0.0.6.dev1+gb5860f297.d20250825) (25.0)\n",
            "Requirement already satisfied: pyparsing>=2.3.1 in /usr/local/lib/python3.12/dist-packages (from matplotlib->dfp==0.0.6.dev1+gb5860f297.d20250825) (3.2.3)\n",
            "Requirement already satisfied: python-dateutil>=2.7 in /usr/local/lib/python3.12/dist-packages (from matplotlib->dfp==0.0.6.dev1+gb5860f297.d20250825) (2.9.0.post0)\n",
            "Collecting fancycompleter>=0.11.0 (from pdbpp->dfp==0.0.6.dev1+gb5860f297.d20250825)\n",
            "  Downloading fancycompleter-0.11.1-py3-none-any.whl.metadata (7.8 kB)\n",
            "Requirement already satisfied: pygments in /usr/local/lib/python3.12/dist-packages (from pdbpp->dfp==0.0.6.dev1+gb5860f297.d20250825) (2.19.2)\n",
            "Requirement already satisfied: attrs>=21.4.0 in /usr/local/lib/python3.12/dist-packages (from pytype->dfp==0.0.6.dev1+gb5860f297.d20250825) (25.3.0)\n",
            "Collecting importlab>=0.8 (from pytype->dfp==0.0.6.dev1+gb5860f297.d20250825)\n",
            "  Downloading importlab-0.8.1-py2.py3-none-any.whl.metadata (2.4 kB)\n",
            "Requirement already satisfied: immutabledict>=4.1.0 in /usr/local/lib/python3.12/dist-packages (from pytype->dfp==0.0.6.dev1+gb5860f297.d20250825) (4.2.1)\n",
            "Requirement already satisfied: jinja2>=3.1.2 in /usr/local/lib/python3.12/dist-packages (from pytype->dfp==0.0.6.dev1+gb5860f297.d20250825) (3.1.6)\n",
            "Collecting libcst>=1.0.1 (from pytype->dfp==0.0.6.dev1+gb5860f297.d20250825)\n",
            "  Downloading libcst-1.8.2-cp312-cp312-manylinux_2_28_x86_64.whl.metadata (15 kB)\n",
            "Collecting msgspec>=0.18.6 (from pytype->dfp==0.0.6.dev1+gb5860f297.d20250825)\n",
            "  Downloading msgspec-0.19.0-cp312-cp312-manylinux_2_17_x86_64.manylinux2014_x86_64.whl.metadata (6.9 kB)\n",
            "Requirement already satisfied: networkx>=2.8 in /usr/local/lib/python3.12/dist-packages (from pytype->dfp==0.0.6.dev1+gb5860f297.d20250825) (3.5)\n",
            "Collecting ninja>=1.10.0.post2 (from pytype->dfp==0.0.6.dev1+gb5860f297.d20250825)\n",
            "  Downloading ninja-1.13.0-py3-none-manylinux2014_x86_64.manylinux_2_17_x86_64.whl.metadata (5.1 kB)\n",
            "Collecting pycnite>=2024.07.31 (from pytype->dfp==0.0.6.dev1+gb5860f297.d20250825)\n",
            "  Downloading pycnite-2024.7.31-py3-none-any.whl.metadata (1.3 kB)\n",
            "Requirement already satisfied: pydot>=1.4.2 in /usr/local/lib/python3.12/dist-packages (from pytype->dfp==0.0.6.dev1+gb5860f297.d20250825) (3.0.4)\n",
            "Requirement already satisfied: tabulate>=0.8.10 in /usr/local/lib/python3.12/dist-packages (from pytype->dfp==0.0.6.dev1+gb5860f297.d20250825) (0.9.0)\n",
            "Requirement already satisfied: toml>=0.10.2 in /usr/local/lib/python3.12/dist-packages (from pytype->dfp==0.0.6.dev1+gb5860f297.d20250825) (0.10.2)\n",
            "Requirement already satisfied: typing-extensions>=4.3.0 in /usr/local/lib/python3.12/dist-packages (from pytype->dfp==0.0.6.dev1+gb5860f297.d20250825) (4.14.1)\n",
            "Requirement already satisfied: absl-py>=0.4 in /usr/local/lib/python3.12/dist-packages (from tensorboard->dfp==0.0.6.dev1+gb5860f297.d20250825) (1.4.0)\n",
            "Requirement already satisfied: grpcio>=1.48.2 in /usr/local/lib/python3.12/dist-packages (from tensorboard->dfp==0.0.6.dev1+gb5860f297.d20250825) (1.74.0)\n",
            "Requirement already satisfied: markdown>=2.6.8 in /usr/local/lib/python3.12/dist-packages (from tensorboard->dfp==0.0.6.dev1+gb5860f297.d20250825) (3.8.2)\n",
            "Requirement already satisfied: setuptools>=41.0.0 in /usr/local/lib/python3.12/dist-packages (from tensorboard->dfp==0.0.6.dev1+gb5860f297.d20250825) (75.2.0)\n",
            "Requirement already satisfied: six>1.9 in /usr/local/lib/python3.12/dist-packages (from tensorboard->dfp==0.0.6.dev1+gb5860f297.d20250825) (1.17.0)\n",
            "Requirement already satisfied: tensorboard-data-server<0.8.0,>=0.7.0 in /usr/local/lib/python3.12/dist-packages (from tensorboard->dfp==0.0.6.dev1+gb5860f297.d20250825) (0.7.2)\n",
            "Requirement already satisfied: werkzeug>=1.0.1 in /usr/local/lib/python3.12/dist-packages (from tensorboard->dfp==0.0.6.dev1+gb5860f297.d20250825) (3.1.3)\n",
            "Requirement already satisfied: astunparse>=1.6.0 in /usr/local/lib/python3.12/dist-packages (from tensorflow-cpu->dfp==0.0.6.dev1+gb5860f297.d20250825) (1.6.3)\n",
            "Requirement already satisfied: flatbuffers>=24.3.25 in /usr/local/lib/python3.12/dist-packages (from tensorflow-cpu->dfp==0.0.6.dev1+gb5860f297.d20250825) (25.2.10)\n",
            "Requirement already satisfied: gast!=0.5.0,!=0.5.1,!=0.5.2,>=0.2.1 in /usr/local/lib/python3.12/dist-packages (from tensorflow-cpu->dfp==0.0.6.dev1+gb5860f297.d20250825) (0.6.0)\n",
            "Requirement already satisfied: google_pasta>=0.1.1 in /usr/local/lib/python3.12/dist-packages (from tensorflow-cpu->dfp==0.0.6.dev1+gb5860f297.d20250825) (0.2.0)\n",
            "Requirement already satisfied: libclang>=13.0.0 in /usr/local/lib/python3.12/dist-packages (from tensorflow-cpu->dfp==0.0.6.dev1+gb5860f297.d20250825) (18.1.1)\n",
            "Requirement already satisfied: opt_einsum>=2.3.2 in /usr/local/lib/python3.12/dist-packages (from tensorflow-cpu->dfp==0.0.6.dev1+gb5860f297.d20250825) (3.4.0)\n",
            "Requirement already satisfied: termcolor>=1.1.0 in /usr/local/lib/python3.12/dist-packages (from tensorflow-cpu->dfp==0.0.6.dev1+gb5860f297.d20250825) (3.1.0)\n",
            "Requirement already satisfied: wrapt>=1.11.0 in /usr/local/lib/python3.12/dist-packages (from tensorflow-cpu->dfp==0.0.6.dev1+gb5860f297.d20250825) (1.17.3)\n",
            "Collecting tensorboard (from dfp==0.0.6.dev1+gb5860f297.d20250825)\n",
            "  Downloading tensorboard-2.20.0-py3-none-any.whl.metadata (1.8 kB)\n",
            "Requirement already satisfied: keras>=3.10.0 in /usr/local/lib/python3.12/dist-packages (from tensorflow-cpu->dfp==0.0.6.dev1+gb5860f297.d20250825) (3.10.0)\n",
            "Requirement already satisfied: h5py>=3.11.0 in /usr/local/lib/python3.12/dist-packages (from tensorflow-cpu->dfp==0.0.6.dev1+gb5860f297.d20250825) (3.14.0)\n",
            "Requirement already satisfied: ml_dtypes<1.0.0,>=0.5.1 in /usr/local/lib/python3.12/dist-packages (from tensorflow-cpu->dfp==0.0.6.dev1+gb5860f297.d20250825) (0.5.3)\n",
            "Requirement already satisfied: dm-tree~=0.1.1 in /usr/local/lib/python3.12/dist-packages (from tensorflow-model-optimization->dfp==0.0.6.dev1+gb5860f297.d20250825) (0.1.9)\n",
            "INFO: pip is looking at multiple versions of tensorflow-model-optimization to determine which version is compatible with other requirements. This could take a while.\n",
            "Collecting tensorflow-model-optimization (from dfp==0.0.6.dev1+gb5860f297.d20250825)\n",
            "  Downloading tensorflow_model_optimization-0.7.5-py2.py3-none-any.whl.metadata (914 bytes)\n",
            "  Downloading tensorflow_model_optimization-0.7.4-py2.py3-none-any.whl.metadata (914 bytes)\n",
            "  Downloading tensorflow_model_optimization-0.7.3-py2.py3-none-any.whl.metadata (910 bytes)\n",
            "  Downloading tensorflow_model_optimization-0.7.2-py2.py3-none-any.whl.metadata (910 bytes)\n",
            "  Downloading tensorflow_model_optimization-0.7.1-py2.py3-none-any.whl.metadata (910 bytes)\n",
            "  Downloading tensorflow_model_optimization-0.7.0-py2.py3-none-any.whl.metadata (910 bytes)\n",
            "  Downloading tensorflow_model_optimization-0.6.0-py2.py3-none-any.whl.metadata (911 bytes)\n",
            "INFO: pip is still looking at multiple versions of tensorflow-model-optimization to determine which version is compatible with other requirements. This could take a while.\n",
            "  Downloading tensorflow_model_optimization-0.5.0-py2.py3-none-any.whl.metadata (911 bytes)\n",
            "  Downloading tensorflow_model_optimization-0.4.1-py2.py3-none-any.whl.metadata (911 bytes)\n",
            "  Downloading tensorflow_model_optimization-0.4.0-py2.py3-none-any.whl.metadata (890 bytes)\n",
            "  Downloading tensorflow_model_optimization-0.3.0-py2.py3-none-any.whl.metadata (890 bytes)\n",
            "  Downloading tensorflow_model_optimization-0.2.1-py2.py3-none-any.whl.metadata (832 bytes)\n",
            "Collecting enum34~=1.1 (from tensorflow-model-optimization->dfp==0.0.6.dev1+gb5860f297.d20250825)\n",
            "  Downloading enum34-1.1.10-py3-none-any.whl.metadata (1.6 kB)\n",
            "INFO: This is taking longer than usual. You might need to provide the dependency resolver with stricter constraints to reduce runtime. See https://pip.pypa.io/warnings/backtracking for guidance. If you want to abort this run, press Ctrl + C.\n",
            "Collecting tensorflow-model-optimization (from dfp==0.0.6.dev1+gb5860f297.d20250825)\n",
            "  Downloading tensorflow_model_optimization-0.2.0-py2.py3-none-any.whl.metadata (832 bytes)\n",
            "  Downloading tensorflow_model_optimization-0.1.3-py2.py3-none-any.whl.metadata (832 bytes)\n",
            "  Downloading tensorflow_model_optimization-0.1.2-py2.py3-none-any.whl.metadata (832 bytes)\n",
            "  Downloading tensorflow_model_optimization-0.1.1-py2.py3-none-any.whl.metadata (802 bytes)\n",
            "  Downloading tensorflow_model_optimization-0.1.0-py2.py3-none-any.whl.metadata (802 bytes)\n",
            "Collecting tensorflow-cpu (from dfp==0.0.6.dev1+gb5860f297.d20250825)\n",
            "  Downloading tensorflow_cpu-2.19.1-cp312-cp312-manylinux_2_17_x86_64.manylinux2014_x86_64.whl.metadata (4.1 kB)\n",
            "  Downloading tensorflow_cpu-2.19.0-cp312-cp312-manylinux_2_17_x86_64.manylinux2014_x86_64.whl.metadata (4.1 kB)\n",
            "  Downloading tensorflow_cpu-2.18.1-cp312-cp312-manylinux_2_17_x86_64.manylinux2014_x86_64.whl.metadata (4.1 kB)\n",
            "Collecting tensorboard (from dfp==0.0.6.dev1+gb5860f297.d20250825)\n",
            "  Downloading tensorboard-2.18.0-py3-none-any.whl.metadata (1.6 kB)\n",
            "Collecting tensorflow-cpu (from dfp==0.0.6.dev1+gb5860f297.d20250825)\n",
            "  Downloading tensorflow_cpu-2.18.0-cp312-cp312-manylinux_2_17_x86_64.manylinux2014_x86_64.whl.metadata (4.1 kB)\n",
            "Collecting ml-dtypes<0.5.0,>=0.4.0 (from tensorflow-cpu->dfp==0.0.6.dev1+gb5860f297.d20250825)\n",
            "  Downloading ml_dtypes-0.4.1-cp312-cp312-manylinux_2_17_x86_64.manylinux2014_x86_64.whl.metadata (20 kB)\n",
            "Collecting tensorflow-cpu (from dfp==0.0.6.dev1+gb5860f297.d20250825)\n",
            "  Downloading tensorflow_cpu-2.17.1-cp312-cp312-manylinux_2_17_x86_64.manylinux2014_x86_64.whl.metadata (4.2 kB)\n",
            "Collecting protobuf (from dfp==0.0.6.dev1+gb5860f297.d20250825)\n",
            "  Downloading protobuf-4.25.8-cp37-abi3-manylinux2014_x86_64.whl.metadata (541 bytes)\n",
            "Collecting tensorboard (from dfp==0.0.6.dev1+gb5860f297.d20250825)\n",
            "  Downloading tensorboard-2.17.1-py3-none-any.whl.metadata (1.6 kB)\n",
            "INFO: pip is looking at multiple versions of tensorflow-cpu to determine which version is compatible with other requirements. This could take a while.\n",
            "Collecting tensorflow-cpu (from dfp==0.0.6.dev1+gb5860f297.d20250825)\n",
            "  Downloading tensorflow_cpu-2.17.0-cp312-cp312-manylinux_2_17_x86_64.manylinux2014_x86_64.whl.metadata (4.2 kB)\n",
            "  Downloading tensorflow_cpu-2.16.2-cp312-cp312-manylinux_2_17_x86_64.manylinux2014_x86_64.whl.metadata (4.2 kB)\n",
            "Collecting ml-dtypes~=0.3.1 (from tensorflow-cpu->dfp==0.0.6.dev1+gb5860f297.d20250825)\n",
            "  Downloading ml_dtypes-0.3.2-cp312-cp312-manylinux_2_17_x86_64.manylinux2014_x86_64.whl.metadata (20 kB)\n",
            "Collecting tensorboard (from dfp==0.0.6.dev1+gb5860f297.d20250825)\n",
            "  Downloading tensorboard-2.16.2-py3-none-any.whl.metadata (1.6 kB)\n",
            "Collecting tensorflow-cpu (from dfp==0.0.6.dev1+gb5860f297.d20250825)\n",
            "  Downloading tensorflow_cpu-2.16.1-cp312-cp312-manylinux_2_17_x86_64.manylinux2014_x86_64.whl.metadata (4.3 kB)\n",
            "Collecting tensorboard (from dfp==0.0.6.dev1+gb5860f297.d20250825)\n",
            "  Downloading tensorboard-2.19.0-py3-none-any.whl.metadata (1.8 kB)\n",
            "INFO: pip is still looking at multiple versions of tensorflow-cpu to determine which version is compatible with other requirements. This could take a while.\n",
            "INFO: This is taking longer than usual. You might need to provide the dependency resolver with stricter constraints to reduce runtime. See https://pip.pypa.io/warnings/backtracking for guidance. If you want to abort this run, press Ctrl + C.\n",
            "  Downloading tensorboard-2.17.0-py3-none-any.whl.metadata (1.6 kB)\n",
            "  Downloading tensorboard-2.16.1-py3-none-any.whl.metadata (1.6 kB)\n",
            "Requirement already satisfied: tf-keras>=2.15.0 in /usr/local/lib/python3.12/dist-packages (from tensorboard->dfp==0.0.6.dev1+gb5860f297.d20250825) (2.19.0)\n",
            "  Downloading tensorboard-2.16.0-py3-none-any.whl.metadata (1.6 kB)\n",
            "Collecting tf-keras-nightly (from tensorboard->dfp==0.0.6.dev1+gb5860f297.d20250825)\n",
            "  Downloading tf_keras_nightly-2.20.0.dev2025062209-py3-none-any.whl.metadata (1.9 kB)\n",
            "Collecting tensorboard (from dfp==0.0.6.dev1+gb5860f297.d20250825)\n",
            "  Downloading tensorboard-2.15.2-py3-none-any.whl.metadata (1.7 kB)\n",
            "Requirement already satisfied: google-auth<3,>=1.6.3 in /usr/local/lib/python3.12/dist-packages (from tensorboard->dfp==0.0.6.dev1+gb5860f297.d20250825) (2.38.0)\n",
            "Requirement already satisfied: google-auth-oauthlib<2,>=0.5 in /usr/local/lib/python3.12/dist-packages (from tensorboard->dfp==0.0.6.dev1+gb5860f297.d20250825) (1.2.2)\n",
            "\u001b[31mERROR: Cannot install dfp and dfp[tfcpu]==0.0.6.dev1+gb5860f297.d20250825 because these package versions have conflicting dependencies.\u001b[0m\u001b[31m\n",
            "\u001b[0m\n",
            "The conflict is caused by:\n",
            "    dfp[tfcpu] 0.0.6.dev1+gb5860f297.d20250825 depends on tensorboard; extra == \"tfcpu\"\n",
            "    tensorflow-cpu 2.20.0 depends on tensorboard~=2.20.0\n",
            "    dfp[tfcpu] 0.0.6.dev1+gb5860f297.d20250825 depends on tensorboard; extra == \"tfcpu\"\n",
            "    tensorflow-cpu 2.19.1 depends on tensorboard~=2.19.0\n",
            "    dfp[tfcpu] 0.0.6.dev1+gb5860f297.d20250825 depends on tensorboard; extra == \"tfcpu\"\n",
            "    tensorflow-cpu 2.19.0 depends on tensorboard~=2.19.0\n",
            "    dfp[tfcpu] 0.0.6.dev1+gb5860f297.d20250825 depends on tensorboard; extra == \"tfcpu\"\n",
            "    tensorflow-cpu 2.18.1 depends on tensorboard<2.19 and >=2.18\n",
            "    dfp[tfcpu] 0.0.6.dev1+gb5860f297.d20250825 depends on tensorboard; extra == \"tfcpu\"\n",
            "    tensorflow-cpu 2.18.0 depends on tensorboard<2.19 and >=2.18\n",
            "    dfp[tfcpu] 0.0.6.dev1+gb5860f297.d20250825 depends on tensorboard; extra == \"tfcpu\"\n",
            "    tensorflow-cpu 2.17.1 depends on tensorboard<2.18 and >=2.17\n",
            "    dfp[tfcpu] 0.0.6.dev1+gb5860f297.d20250825 depends on tensorboard; extra == \"tfcpu\"\n",
            "    tensorflow-cpu 2.17.0 depends on tensorboard<2.18 and >=2.17\n",
            "    dfp[tfcpu] 0.0.6.dev1+gb5860f297.d20250825 depends on tensorboard; extra == \"tfcpu\"\n",
            "    tensorflow-cpu 2.16.2 depends on tensorboard<2.17 and >=2.16\n",
            "    dfp[tfcpu] 0.0.6.dev1+gb5860f297.d20250825 depends on tensorboard; extra == \"tfcpu\"\n",
            "    tensorflow-cpu 2.16.1 depends on tensorboard<2.17 and >=2.16\n",
            "\n",
            "To fix this you could try to:\n",
            "1. loosen the range of package versions you've specified\n",
            "2. remove package versions to allow pip to attempt to solve the dependency conflict\n",
            "\n",
            "\u001b[31mERROR: ResolutionImpossible: for help visit https://pip.pypa.io/en/latest/topics/dependency-resolution/#dealing-with-dependency-conflicts\u001b[0m\u001b[31m\n",
            "\u001b[0m"
          ]
        }
      ],
      "source": [
        "# gpu\n",
        "# !cd TF2DeepFloorplan && pip install -e .[tfgpu]\n",
        "# cpu\n",
        "!cd TF2DeepFloorplan && pip install -e .[tfcpu]"
      ]
    },
    {
      "cell_type": "markdown",
      "metadata": {
        "id": "7_VDeorCe4nI"
      },
      "source": [
        "### Main Script"
      ]
    },
    {
      "cell_type": "code",
      "execution_count": null,
      "metadata": {
        "id": "C4VRom9mqBPT"
      },
      "outputs": [],
      "source": [
        "import tensorflow as tf\n",
        "import sys\n",
        "from dfp.net import *\n",
        "from dfp.data import *\n",
        "import matplotlib.image as mpimg\n",
        "import matplotlib.pyplot as plt\n",
        "from argparse import Namespace\n",
        "import os\n",
        "import gc\n",
        "os.environ['TF_FORCE_GPU_ALLOW_GROWTH'] = 'true'\n",
        "from dfp.utils.rgb_ind_convertor import *\n",
        "from dfp.utils.util import *\n",
        "from dfp.utils.legend import *\n",
        "from dfp.utils.settings import *\n",
        "from dfp.deploy import *\n",
        "print(tf.test.is_gpu_available())\n",
        "print(tf.config.list_physical_devices('GPU'))"
      ]
    },
    {
      "cell_type": "code",
      "execution_count": null,
      "metadata": {
        "id": "30DTDbxbwm3O"
      },
      "outputs": [],
      "source": [
        "img_path = './TF2DeepFloorplan/resources/30939153.jpg'\n",
        "inp = mpimg.imread(img_path)\n",
        "args = parse_args(\"--tomlfile ./TF2DeepFloorplan/docs/notebook.toml\".split())\n",
        "args = overwrite_args_with_toml(args)\n",
        "args.image = img_path"
      ]
    },
    {
      "cell_type": "code",
      "execution_count": null,
      "metadata": {
        "id": "xzqbdPC0uJNc"
      },
      "outputs": [],
      "source": [
        "result = main(args)"
      ]
    },
    {
      "cell_type": "code",
      "execution_count": null,
      "metadata": {
        "id": "2xVIt5LEusqf"
      },
      "outputs": [],
      "source": [
        "plt.subplot(1,2,1)\n",
        "plt.imshow(inp); plt.xticks([]); plt.yticks([]);\n",
        "plt.subplot(1,2,2)\n",
        "plt.imshow(result); plt.xticks([]); plt.yticks([]);"
      ]
    },
    {
      "cell_type": "markdown",
      "metadata": {
        "id": "Jto5H5cXypOD"
      },
      "source": [
        "## Breakdown of postprocessing (step by step)"
      ]
    },
    {
      "cell_type": "code",
      "execution_count": null,
      "metadata": {
        "id": "57rg5h7XywwU"
      },
      "outputs": [],
      "source": [
        "model,img,shp = init(args)\n",
        "logits_cw,logits_r = predict(model,img,shp)"
      ]
    },
    {
      "cell_type": "code",
      "execution_count": null,
      "metadata": {
        "id": "2aUCqpT6zPmv"
      },
      "outputs": [],
      "source": [
        "logits_r = tf.image.resize(logits_r,shp[:2])\n",
        "logits_cw = tf.image.resize(logits_cw,shp[:2])\n",
        "r = convert_one_hot_to_image(logits_r)[0].numpy()\n",
        "cw = convert_one_hot_to_image(logits_cw)[0].numpy()\n",
        "plt.subplot(1,2,1)\n",
        "plt.imshow(r.squeeze()); plt.xticks([]); plt.yticks([]);\n",
        "plt.subplot(1,2,2)\n",
        "plt.imshow(cw.squeeze()); plt.xticks([]); plt.yticks([]);"
      ]
    },
    {
      "cell_type": "code",
      "execution_count": null,
      "metadata": {
        "id": "UYf4WVVCzgqj"
      },
      "outputs": [],
      "source": [
        "r_color,cw_color = colorize(r.squeeze(),cw.squeeze())\n",
        "plt.subplot(1,2,1)\n",
        "plt.imshow(r_color); plt.xticks([]); plt.yticks([]);\n",
        "plt.subplot(1,2,2)\n",
        "plt.imshow(cw_color); plt.xticks([]); plt.yticks([]);"
      ]
    },
    {
      "cell_type": "code",
      "execution_count": null,
      "metadata": {
        "id": "LTm_qYqa0HGc"
      },
      "outputs": [],
      "source": [
        "newr,newcw = post_process(r,cw,shp)\n",
        "plt.subplot(1,2,1)\n",
        "plt.imshow(newr.squeeze()); plt.xticks([]); plt.yticks([]);\n",
        "plt.subplot(1,2,2)\n",
        "plt.imshow(newcw.squeeze()); plt.xticks([]); plt.yticks([]);"
      ]
    },
    {
      "cell_type": "code",
      "execution_count": null,
      "metadata": {
        "id": "S5MCeHF30ygl"
      },
      "outputs": [],
      "source": [
        "newr_color,newcw_color = colorize(newr.squeeze(),newcw.squeeze())\n",
        "plt.subplot(1,2,1)\n",
        "plt.imshow(newr_color); plt.xticks([]); plt.yticks([]);\n",
        "plt.subplot(1,2,2)\n",
        "plt.imshow(newcw_color); plt.xticks([]); plt.yticks([]);"
      ]
    },
    {
      "cell_type": "code",
      "execution_count": null,
      "metadata": {
        "id": "18UYo3rz0918"
      },
      "outputs": [],
      "source": [
        "plt.imshow(newr_color+newcw_color); plt.xticks([]); plt.yticks([]);"
      ]
    },
    {
      "cell_type": "code",
      "execution_count": null,
      "metadata": {
        "id": "dydb1kWl13hL"
      },
      "outputs": [],
      "source": [
        "over255 = lambda x: [p/255 for p in x]\n",
        "colors2 = [over255(rgb) for rgb in list(floorplan_fuse_map.values())]\n",
        "colors = [\"background\", \"closet\", \"bathroom\",\n",
        "          \"living room\\nkitchen\\ndining room\",\n",
        "          \"bedroom\",\"hall\",\"balcony\",\"not used\",\"not used\",\n",
        "          \"door/window\",\"wall\"]\n",
        "f = lambda m,c: plt.plot([],[],marker=m, color=c, ls=\"none\")[0]\n",
        "handles = [f(\"s\", colors2[i]) for i in range(len(colors))]\n",
        "labels = colors\n",
        "legend = plt.legend(handles, labels, loc=3,framealpha=1, frameon=True)\n",
        "\n",
        "fig  = legend.figure\n",
        "fig.canvas.draw()\n",
        "plt.xticks([]); plt.yticks([]);\n"
      ]
    },
    {
      "cell_type": "code",
      "execution_count": null,
      "metadata": {
        "id": "iy8nx0WZ2QGS"
      },
      "outputs": [],
      "source": []
    }
  ],
  "metadata": {
    "colab": {
      "name": "deepfloorplan.ipynb",
      "provenance": []
    },
    "kernelspec": {
      "display_name": "Python 3",
      "name": "python3"
    },
    "language_info": {
      "codemirror_mode": {
        "name": "ipython",
        "version": 3
      },
      "file_extension": ".py",
      "mimetype": "text/x-python",
      "name": "python",
      "nbconvert_exporter": "python",
      "pygments_lexer": "ipython3",
      "version": "3.8.16"
    }
  },
  "nbformat": 4,
  "nbformat_minor": 0
}